{
    "cells": [
        {
            "cell_type": "markdown",
            "metadata": {
                "collapsed": true
            },
            "source": "# My Jupyter Notebook on IBM Data Science Experience\n"
        },
        {
            "cell_type": "markdown",
            "metadata": {},
            "source": "**KARTHIKEYAN BALASUBRAMANIYAN**.<br>\nSTUDENT"
        },
        {
            "cell_type": "markdown",
            "metadata": {},
            "source": "*I am interested in data science because I wanted to work on data, analyse data and extract meaningful information from it.<br>\nI am also passionate about it and wanted a pursue a carrer in this field.*\n\n"
        },
        {
            "cell_type": "markdown",
            "metadata": {},
            "source": "### The code in next line is supposed to add two numbers(2+2) and display the output."
        },
        {
            "cell_type": "code",
            "execution_count": 6,
            "metadata": {},
            "outputs": [
                {
                    "data": {
                        "text/plain": "4"
                    },
                    "execution_count": 6,
                    "metadata": {},
                    "output_type": "execute_result"
                }
            ],
            "source": "2+2"
        },
        {
            "cell_type": "markdown",
            "metadata": {},
            "source": "Includes Horizontal Rule,Strikethrough,Hyperlink and Blockquotes\n\n---\n\n-- ~~Rule One~~\n\n***\n\nI wanted to learn **Data science** and pursue a career in it.\n\n___\n\n[Google Home](https://www.google.com)"
        }
    ],
    "metadata": {
        "kernelspec": {
            "display_name": "Python 3.6",
            "language": "python",
            "name": "python3"
        },
        "language_info": {
            "codemirror_mode": {
                "name": "ipython",
                "version": 3
            },
            "file_extension": ".py",
            "mimetype": "text/x-python",
            "name": "python",
            "nbconvert_exporter": "python",
            "pygments_lexer": "ipython3",
            "version": "3.6.9"
        }
    },
    "nbformat": 4,
    "nbformat_minor": 1
}
